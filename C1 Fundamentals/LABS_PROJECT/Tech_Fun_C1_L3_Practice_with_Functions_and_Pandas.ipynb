{
  "nbformat": 4,
  "nbformat_minor": 0,
  "metadata": {
    "colab": {
      "name": "Tech Fun C1 L3 Practice with Functions and Pandas.ipynb",
      "provenance": [],
      "collapsed_sections": [],
      "toc_visible": true,
      "include_colab_link": true
    },
    "kernelspec": {
      "name": "python3",
      "display_name": "Python 3"
    },
    "language_info": {
      "name": "python"
    }
  },
  "cells": [
    {
      "cell_type": "markdown",
      "metadata": {
        "id": "view-in-github",
        "colab_type": "text"
      },
      "source": [
        "<a href=\"https://colab.research.google.com/github/wesleybeckner/technology_fundamentals/blob/main/C1%20Fundamentals/LABS_PROJECT/Tech_Fun_C1_L3_Practice_with_Functions_and_Pandas.ipynb\" target=\"_parent\"><img src=\"https://colab.research.google.com/assets/colab-badge.svg\" alt=\"Open In Colab\"/></a>"
      ]
    },
    {
      "cell_type": "markdown",
      "metadata": {
        "id": "3rZ3ZWSkhxyS"
      },
      "source": [
        "# Technology Fundamentals Course 1, Lab 3: Practice with Functions and Pandas\n",
        "\n",
        "**Instructor**: Wesley Beckner\n",
        "\n",
        "**Contact**: wesleybeckner@gmail.com\n",
        "\n",
        "**Teaching Assitants** Varsha Bang, Harsha Vardhan\n",
        "\n",
        "**Contact** vbang@uw.edu, harshav@uw.edu\n",
        "\n",
        "<br>\n",
        "\n",
        "---\n",
        "\n",
        "<br>\n",
        "\n",
        "In this lab we will continue to practice writing functions as well as manipulating pandas DataFrames.\n",
        "\n",
        "<br>\n",
        "\n",
        "---\n",
        "\n",
        "\n"
      ]
    },
    {
      "cell_type": "markdown",
      "metadata": {
        "id": "a0D3sEqTTRDC"
      },
      "source": [
        "# Part I"
      ]
    },
    {
      "cell_type": "markdown",
      "metadata": {
        "id": "e9MwkxIGlc0k"
      },
      "source": [
        "# L3 Q1: Basic Function Writing\n",
        "\n"
      ]
    },
    {
      "cell_type": "markdown",
      "metadata": {
        "id": "Qw7dGDLynBpZ"
      },
      "source": [
        "## Part A\n",
        "\n",
        "Write a Python function to find the Max of three numbers\n",
        "\n"
      ]
    },
    {
      "cell_type": "code",
      "metadata": {
        "id": "Vb1NyIqZmqYg"
      },
      "source": [
        "# Code Cell for L3 Q1 A"
      ],
      "execution_count": null,
      "outputs": []
    },
    {
      "cell_type": "markdown",
      "metadata": {
        "id": "1WZkXH9Om75g"
      },
      "source": [
        "## Part B\n",
        "\n",
        "Write a Python function to multiply all the numbers in a list\n",
        "\n",
        "Example:\n",
        "\n",
        "```\n",
        "Sample List : (8, 2, 3, -1, 7)\n",
        "Expected Output : -336\n",
        "```"
      ]
    },
    {
      "cell_type": "code",
      "metadata": {
        "id": "DNr1iPrJnGuf",
        "colab": {
          "base_uri": "https://localhost:8080/"
        },
        "outputId": "b1266395-36e0-43c6-90d9-0709fadf402f"
      },
      "source": [
        "# Code Cell for L3 Q1 B"
      ],
      "execution_count": null,
      "outputs": [
        {
          "output_type": "stream",
          "text": [
            "-336\n"
          ],
          "name": "stdout"
        }
      ]
    },
    {
      "cell_type": "markdown",
      "metadata": {
        "id": "MdYwm8EyncmA"
      },
      "source": [
        "## Part C\n",
        "\n",
        "Write a Python program to reverse a string\n",
        "\n",
        "Example:\n",
        "\n",
        "```\n",
        "Sample String : \"1234abcd\"\n",
        "Expected Output : \"dcba4321\"\n",
        "```"
      ]
    },
    {
      "cell_type": "code",
      "metadata": {
        "id": "4Dz-euqNnfWA"
      },
      "source": [
        "# Code Cell for L3 Q1 C"
      ],
      "execution_count": null,
      "outputs": []
    },
    {
      "cell_type": "markdown",
      "metadata": {
        "id": "Sp832EkKi67C"
      },
      "source": [
        "# L2 Q2: Finding Unique Elements\n",
        "\n",
        "Write a Python function that takes a list and returns a new list with unique elements of the first list\n",
        "\n",
        "Example:\n",
        "```\n",
        "Sample List : [1,2,3,3,3,3,4,5]\n",
        "Unique List : [1, 2, 3, 4, 5]\n",
        "```"
      ]
    },
    {
      "cell_type": "code",
      "metadata": {
        "id": "w-mykt4KhnA2"
      },
      "source": [
        "# Cell for L3 Q2"
      ],
      "execution_count": null,
      "outputs": []
    },
    {
      "cell_type": "markdown",
      "metadata": {
        "id": "l730VAfyQf6Q"
      },
      "source": [
        "# L3 Q3: Computing Factorials\n",
        "\n",
        "Write a Python function to calculate the factorial of a number (a non-negative integer). The function accepts the number as an argument\n",
        "\n",
        "Example: \n",
        "\n",
        "```\n",
        "Input: 4                                                       \n",
        "Output: 24\n",
        "```"
      ]
    },
    {
      "cell_type": "code",
      "metadata": {
        "id": "Yi9MqP81Qj7H"
      },
      "source": [
        "# Cell for L3 Q3"
      ],
      "execution_count": null,
      "outputs": []
    },
    {
      "cell_type": "markdown",
      "metadata": {
        "id": "Gulge5B4M8W1"
      },
      "source": [
        "# Practicing our hand at functions by implementing recursion\n",
        "\n",
        "We will practice the last exercise we did yesterday, this time using what we've learned about functions to write a _recursive function_\n",
        "\n",
        "A recursive function is a function that makes a call to itself. This is particularly well suited for tasks that would otherwise require a lot of memory to hold intermediary solutions (when they are combined with a strategy called _memoization_ which we will shy away from here). The Fibonnaci sequence is a good place for such a problem. So is a factorial calculation. See here below"
      ]
    },
    {
      "cell_type": "markdown",
      "metadata": {
        "id": "8GFNlLoL-B-O"
      },
      "source": [
        "3! = 3 * 2 * 1\n",
        "4! = 4 * 3 * 2 * 1"
      ]
    },
    {
      "cell_type": "code",
      "metadata": {
        "id": "BNCkE66QNTUk"
      },
      "source": [
        "def factorial(x):\n",
        "    \"\"\"This is a recursive function\n",
        "    to find the factorial of an integer\"\"\"\n",
        "\n",
        "    if x == 1:\n",
        "        return 1\n",
        "    else:\n",
        "        # one trick to note that is common with recursive functions\n",
        "        # is that the incrementation in the key variable is done\n",
        "        # in the call to the function itself (vs a for loop)\n",
        "        return (x * factorial(x-1))"
      ],
      "execution_count": null,
      "outputs": []
    },
    {
      "cell_type": "code",
      "metadata": {
        "colab": {
          "base_uri": "https://localhost:8080/"
        },
        "id": "9T_6iuyI-ev_",
        "outputId": "70207665-005f-4080-e1d9-c7888e2d1635"
      },
      "source": [
        "n = 3\n",
        "factorial(n)"
      ],
      "execution_count": null,
      "outputs": [
        {
          "output_type": "execute_result",
          "data": {
            "text/plain": [
              "6"
            ]
          },
          "metadata": {
            "tags": []
          },
          "execution_count": 16
        }
      ]
    },
    {
      "cell_type": "markdown",
      "metadata": {
        "id": "ruEYk9SqNW88"
      },
      "source": [
        "In the above, we have on lines 5 and 6, what we call the _baseline_ solution. It is the answer to the simplest subset of the problem. When we build a recursive tree, it is useful to think of the smallest problem, and work upwards, providing this _leaf_ solution to nodes further up on the recursive tree. Like so:"
      ]
    },
    {
      "cell_type": "code",
      "metadata": {
        "id": "GfR__pA2Nm6i"
      },
      "source": [
        "# 1! = 1\n",
        "# 2! = 2 * 1!\n",
        "# 3! = 3 * 2!\n",
        "# N! = N * (N-1)! ... like ... like so"
      ],
      "execution_count": null,
      "outputs": []
    },
    {
      "cell_type": "markdown",
      "metadata": {
        "id": "i3SsxoWaOU_D"
      },
      "source": [
        "This problem is intended to be a fun way to wrap our heads around functions... don't stress. If you want to see a further breakdown of the factorial problem, check out [this link](https://www.programiz.com/python-programming/recursion)"
      ]
    },
    {
      "cell_type": "markdown",
      "metadata": {
        "id": "A0BRhEBPUnBX"
      },
      "source": [
        "# L3 Q4: Recursive Functions\n",
        "\n",
        "Using recursion, complete the Fibonacci sequence up to the 10th place using recursion and any or all of the following:\n",
        "* `if` `elif` `else`\n",
        "* `range`\n",
        "\n",
        "The Fibonacci sequence with indices:\n",
        "\n",
        "1. 1\n",
        "2. 1\n",
        "3. 2\n",
        "4. 3\n",
        "5. 5\n",
        "6. 8\n",
        "7. 13\n",
        "8. etc..\n",
        "\n",
        "Example input:\n",
        "\n",
        "`index = 10`\n",
        "\n",
        "Example output:\n",
        "```\n",
        "Index: 10\n",
        "Value: 34\n",
        "```\n",
        "\n",
        "For additional help, freeCodeCamp has a great video on calculating the Fibonacci numbers [link](https://www.youtube.com/watch?v=oBt53YbR9Kk)"
      ]
    },
    {
      "cell_type": "code",
      "metadata": {
        "id": "Cq_NdBkdhvyk",
        "colab": {
          "base_uri": "https://localhost:8080/"
        },
        "outputId": "d932cd58-643e-4adf-f29e-95b0cd64fa71"
      },
      "source": [
        "# Cell for L2 Q3"
      ],
      "execution_count": null,
      "outputs": [
        {
          "output_type": "execute_result",
          "data": {
            "text/plain": [
              "5"
            ]
          },
          "metadata": {
            "tags": []
          },
          "execution_count": 23
        }
      ]
    },
    {
      "cell_type": "markdown",
      "metadata": {
        "id": "P_r5uNorTO3t"
      },
      "source": [
        "# Part II"
      ]
    },
    {
      "cell_type": "markdown",
      "metadata": {
        "id": "0PPaZvlct0fH"
      },
      "source": [
        "# L3 Q1 \n",
        "\n",
        "Convert the two series into the columns of a DataFrame"
      ]
    },
    {
      "cell_type": "code",
      "metadata": {
        "id": "9lphFb2ksnEC"
      },
      "source": [
        "ser1 = pd.Series(list('abcedfghijklmnopqrstuvwxyz'))\n",
        "ser2 = pd.Series(np.arange(26))"
      ],
      "execution_count": null,
      "outputs": []
    },
    {
      "cell_type": "markdown",
      "metadata": {
        "id": "0gi9EjLNuLGK"
      },
      "source": [
        "# L3 Q2\n",
        "\n",
        "Conver the series into a DataFrame with 7 rows and 5 columns"
      ]
    },
    {
      "cell_type": "code",
      "metadata": {
        "id": "EXkjgWoOt395"
      },
      "source": [
        "ser = pd.Series(np.random.randint(1, 10, 35))"
      ],
      "execution_count": null,
      "outputs": []
    },
    {
      "cell_type": "markdown",
      "metadata": {
        "id": "HK6nG-UPuvkT"
      },
      "source": [
        "# L3 Q3\n",
        "\n",
        "Compute the difference of differences between consecutive numbers in a series using `ser.diff()`\n"
      ]
    },
    {
      "cell_type": "code",
      "metadata": {
        "id": "kAh1JuzOu1A6"
      },
      "source": [
        "ser = pd.Series([1, 3, 6, 10, 15, 21, 27, 35])"
      ],
      "execution_count": null,
      "outputs": []
    },
    {
      "cell_type": "markdown",
      "metadata": {
        "id": "08Phen9ru9fb"
      },
      "source": [
        "# L3 Q4 \n",
        "\n",
        "Convert a series of dates to `datetime` format using `pd.to_datetime()`"
      ]
    },
    {
      "cell_type": "code",
      "metadata": {
        "id": "kz7TvktXu1ai"
      },
      "source": [
        "ser = pd.Series(['01 Jan 2010', '02-02-2011', '20120303', '2013/04/04', '2014-05-05', '2015-06-06T12:20'])"
      ],
      "execution_count": null,
      "outputs": []
    },
    {
      "cell_type": "markdown",
      "metadata": {
        "id": "Yt6pOFN818x_"
      },
      "source": [
        "# L3 Q5\n",
        "\n",
        "Compute the mean of weights grouped by fruit\n"
      ]
    },
    {
      "cell_type": "code",
      "metadata": {
        "colab": {
          "base_uri": "https://localhost:8080/"
        },
        "id": "KFdCPjZWvEy_",
        "outputId": "045abf56-082b-4645-c05c-d473915e54e1"
      },
      "source": [
        "fruit = pd.Series(np.random.choice(['apple', 'banana', 'carrot'], 10))\n",
        "weights = pd.Series(np.linspace(1, 10, 10))\n",
        "print(weights.tolist())\n",
        "print(fruit.tolist())"
      ],
      "execution_count": null,
      "outputs": [
        {
          "output_type": "stream",
          "text": [
            "[1.0, 2.0, 3.0, 4.0, 5.0, 6.0, 7.0, 8.0, 9.0, 10.0]\n",
            "['banana', 'banana', 'banana', 'carrot', 'carrot', 'carrot', 'carrot', 'carrot', 'banana', 'banana']\n"
          ],
          "name": "stdout"
        }
      ]
    },
    {
      "cell_type": "markdown",
      "metadata": {
        "id": "M8Igu4sK2L1y"
      },
      "source": [
        "# L3 Q6\n",
        "\n",
        "Compute the euclidian distance between vectors p and q (pythagorean theorem)"
      ]
    },
    {
      "cell_type": "code",
      "metadata": {
        "id": "1SWVo8vn2Ay9"
      },
      "source": [
        "p = pd.Series([1, 2, 3, 4, 5, 6, 7, 8, 9, 10])\n",
        "q = pd.Series([10, 9, 8, 7, 6, 5, 4, 3, 2, 1])"
      ],
      "execution_count": null,
      "outputs": []
    },
    {
      "cell_type": "markdown",
      "metadata": {
        "id": "HWuS2x092yxA"
      },
      "source": [
        "# L3 Q7\n",
        "\n",
        "Fill in missing values for dates with the previous dates' value using `ser.bfill()` or `ser.ffill()`"
      ]
    },
    {
      "cell_type": "code",
      "metadata": {
        "colab": {
          "base_uri": "https://localhost:8080/"
        },
        "id": "HO0gcmvJ2ObL",
        "outputId": "61f7bc19-0085-4a27-a7c7-f02b4c94445f"
      },
      "source": [
        "ser = pd.Series([1,10,3,np.nan], index=pd.to_datetime(['2000-01-01', '2000-01-03', '2000-01-06', '2000-01-08']))\n",
        "print(ser)"
      ],
      "execution_count": null,
      "outputs": [
        {
          "output_type": "stream",
          "text": [
            "2000-01-01     1.0\n",
            "2000-01-03    10.0\n",
            "2000-01-06     3.0\n",
            "2000-01-08     NaN\n",
            "dtype: float64\n"
          ],
          "name": "stdout"
        }
      ]
    },
    {
      "cell_type": "markdown",
      "metadata": {
        "id": "x1H949kQ3dvJ"
      },
      "source": [
        "# L3 Q8\n",
        "\n",
        "Check if there are missing values in a dataframe using `.isnull()`, `.values`, and `.any()`"
      ]
    },
    {
      "cell_type": "code",
      "metadata": {
        "id": "N12aXr6v24cu"
      },
      "source": [
        "df = pd.read_csv('https://raw.githubusercontent.com/selva86/datasets/master/Cars93_miss.csv')"
      ],
      "execution_count": null,
      "outputs": []
    },
    {
      "cell_type": "markdown",
      "metadata": {
        "id": "EboeGY0p4mb7"
      },
      "source": [
        "# L3 Q9\n",
        "\n",
        "Grab the first column and return it as a DataFrame rather than as a series"
      ]
    },
    {
      "cell_type": "code",
      "metadata": {
        "id": "LMpa73403jce"
      },
      "source": [
        "df = pd.DataFrame(np.arange(20).reshape(-1, 5), columns=list('abcde'))"
      ],
      "execution_count": null,
      "outputs": []
    },
    {
      "cell_type": "markdown",
      "metadata": {
        "id": "EdgvQfqq4vux"
      },
      "source": [
        "# L3 Q10\n",
        "\n",
        "In `df`, interchange columns 'a' and 'c'."
      ]
    },
    {
      "cell_type": "code",
      "metadata": {
        "id": "d5Oz2gzL4pz2"
      },
      "source": [
        "df = pd.DataFrame(np.arange(20).reshape(-1, 5), columns=list('abcde'))"
      ],
      "execution_count": null,
      "outputs": []
    },
    {
      "cell_type": "code",
      "metadata": {
        "id": "yc34SOU140oq"
      },
      "source": [
        ""
      ],
      "execution_count": null,
      "outputs": []
    }
  ]
}